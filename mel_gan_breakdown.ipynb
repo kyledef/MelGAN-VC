{
 "cells": [
  {
   "cell_type": "code",
   "execution_count": null,
   "metadata": {},
   "outputs": [],
   "source": [
    "\n",
    "# NB shape=24 #length of time axis of split specrograms to feed to generator \n",
    "\n",
    "#Split spectrograms in chunks with equal size\n",
    "def splitcut(data, shape=24, debug=False):\n",
    "    ls = []\n",
    "    mini = data[0].shape[1]\n",
    "    minifinal = 10*shape                                                              #max spectrogram length\n",
    "    for i in range(data.shape[0]-1):\n",
    "        if data[i].shape[1]<=mini:\n",
    "            mini = data[i].shape[1]\n",
    "    \n",
    "    if mini >= 3*shape and mini < minifinal:\n",
    "        minifinal = mini\n",
    "        \n",
    "    if debug:\n",
    "        print(f\"Mininum chunk size is {minifinal}\")\n",
    "    \n",
    "    for i in range(data.shape[0]):\n",
    "        x = data[i]\n",
    "        if debug:\n",
    "            print(f\"{i} {x.shape}-> {x.shape[1]} >= {3*shape}?\")\n",
    "            \n",
    "        if x.shape[1]>=3*shape:\n",
    "            if debug:\n",
    "                print(f\" Attempt to break the file up into {x.shape[1]//minifinal} chunks of size {minifinal}\")\n",
    "            \n",
    "            for n in range(x.shape[1]//minifinal):\n",
    "                ls.append(x[:,n*minifinal:n*minifinal+minifinal,:])\n",
    "        ls.append(x[:,-minifinal:,:])\n",
    "    return np.array(ls)"
   ]
  },
  {
   "cell_type": "code",
   "execution_count": null,
   "metadata": {},
   "outputs": [],
   "source": [
    "#Assembling generated Spectrogram chunks into final Spectrogram\n",
    "def specass(a,spec):\n",
    "    but=False\n",
    "    con = np.array([])\n",
    "    nim = a.shape[0]\n",
    "    for i in range(nim-1):\n",
    "        im = a[i]\n",
    "        im = np.squeeze(im)\n",
    "        if not but:\n",
    "            con=im\n",
    "            but=True\n",
    "        else:\n",
    "            con = np.concatenate((con,im), axis=1)\n",
    "    diff = spec.shape[1]-(nim*shape)\n",
    "    a = np.squeeze(a)\n",
    "    con = np.concatenate((con,a[-1,:,-diff:]), axis=1)\n",
    "    return np.squeeze(con)"
   ]
  }
 ],
 "metadata": {
  "environment": {
   "name": "tf2-gpu.2-1.m47",
   "type": "gcloud",
   "uri": "gcr.io/deeplearning-platform-release/tf2-gpu.2-1:m47"
  },
  "kernelspec": {
   "display_name": "Python 3",
   "language": "python",
   "name": "python3"
  },
  "language_info": {
   "codemirror_mode": {
    "name": "ipython",
    "version": 3
   },
   "file_extension": ".py",
   "mimetype": "text/x-python",
   "name": "python",
   "nbconvert_exporter": "python",
   "pygments_lexer": "ipython3",
   "version": "3.7.6"
  }
 },
 "nbformat": 4,
 "nbformat_minor": 4
}
